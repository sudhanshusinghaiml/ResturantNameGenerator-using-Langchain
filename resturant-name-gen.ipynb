{
 "cells": [
  {
   "cell_type": "code",
   "execution_count": 23,
   "metadata": {},
   "outputs": [],
   "source": [
    "import os\n",
    "import openai\n",
    "\n",
    "# Use the below codes to load the passowrd in py or ipynb files\n",
    "from dotenv import load_dotenv, find_dotenv\n",
    "# Checking if the .env is loaded or not - Returns True\n",
    "_ = load_dotenv(find_dotenv())\n",
    "openai_client = openai.OpenAI()\n",
    "# Setting the Environment Variables\n",
    "openai_client.api_key  = os.getenv('OPENAI_API_KEY')"
   ]
  },
  {
   "cell_type": "code",
   "execution_count": 24,
   "metadata": {},
   "outputs": [
    {
     "name": "stdout",
     "output_type": "stream",
     "text": [
      "\n",
      "\n",
      "1. \"La Bella Vita\"\n",
      "2. \"Cucina di Roma\"\n",
      "3. \"Il Gusto Italiano\"\n",
      "4. \"Bella Cucina\"\n",
      "5. \"Trattoria Toscana\"\n",
      "6. \"Ristorante Amore\"\n",
      "7. \"Dolce Vita Bistro\"\n",
      "8. \"Fresco Italiano\"\n",
      "9. \"Bella Notte Ristorante\"\n",
      "10. \"Vino e Cucina\"\n"
     ]
    }
   ],
   "source": [
    "from langchain_openai import OpenAI\n",
    "\n",
    "llm = OpenAI(temperature= 0.6)\n",
    "\n",
    "name = llm.invoke(\"I want to open a resturant for Italian food.Suggest a fency name for this\")\n",
    "print(name)"
   ]
  },
  {
   "cell_type": "code",
   "execution_count": 25,
   "metadata": {},
   "outputs": [
    {
     "data": {
      "text/plain": [
       "'I want to open a resturant for Italian food. Suggest a fancy name for this.'"
      ]
     },
     "execution_count": 25,
     "metadata": {},
     "output_type": "execute_result"
    }
   ],
   "source": [
    "from langchain_core.prompts import PromptTemplate\n",
    "\n",
    "prompt_template_name = PromptTemplate(\n",
    "    input_variables= [\"cuisine\"],\n",
    "    template= \"I want to open a resturant for {cuisine} food. Suggest a fancy name for this.\"\n",
    ")\n",
    "\n",
    "prompt_template_name.format(cuisine=\"Italian\")"
   ]
  },
  {
   "cell_type": "code",
   "execution_count": 26,
   "metadata": {},
   "outputs": [
    {
     "data": {
      "text/plain": [
       "'\\n\\n\"La Cocina de México\"'"
      ]
     },
     "execution_count": 26,
     "metadata": {},
     "output_type": "execute_result"
    }
   ],
   "source": [
    "from langchain_core.output_parsers import StrOutputParser\n",
    "from langchain_core.prompts import PromptTemplate\n",
    "from langchain_openai import OpenAI\n",
    "\n",
    "chain = prompt_template_name | llm | StrOutputParser()\n",
    "\n",
    "chain.invoke(\"Mexican\")"
   ]
  },
  {
   "cell_type": "markdown",
   "metadata": {},
   "source": [
    "#### Simple Sequential Chain"
   ]
  },
  {
   "cell_type": "code",
   "execution_count": 27,
   "metadata": {},
   "outputs": [],
   "source": [
    "from langchain import OpenAI\n",
    "llm = OpenAI(temperature= 0.6)\n",
    "\n",
    "prompt_template_name = PromptTemplate(\n",
    "    input_variables= [\"cuisine\"],\n",
    "    template= \"I want to open a resturant for {cuisine} food. Suggest a fancy name for this.\"\n",
    ")\n",
    "\n",
    "name_chain = prompt_template_name | llm | StrOutputParser()\n",
    "\n",
    "prompt_template_items = PromptTemplate(\n",
    "    input_variables= [\"resturant_name\"],\n",
    "    template= \"Suggest some menu items for {resturant_name}. Return it as comma separated field.\"\n",
    ")\n",
    "\n",
    "food_items_chain = prompt_template_items | llm | StrOutputParser()"
   ]
  },
  {
   "cell_type": "code",
   "execution_count": 28,
   "metadata": {},
   "outputs": [
    {
     "name": "stdout",
     "output_type": "stream",
     "text": [
      "\n",
      "\n",
      "1. Samosas\n",
      "2. Butter Chicken\n",
      "3. Biryani\n",
      "4. Naan Bread\n",
      "5. Tandoori Chicken\n",
      "6. Vegetable Korma\n",
      "7. Lamb Rogan Josh\n",
      "8. Palak Paneer\n",
      "9. Chicken Tikka Masala\n",
      "10. Mango Lassi\n",
      "11. Aloo Gobi\n",
      "12. Chana Masala\n",
      "13. Malai Kofta\n",
      "14. Dal Makhani\n",
      "15. Gulab Jamun.\n"
     ]
    }
   ],
   "source": [
    "from langchain import OpenAI\n",
    "from langchain_core.runnables.base import RunnableSequence\n",
    "\n",
    "# Create a sequence of these chains\n",
    "sequential_chain = RunnableSequence(\n",
    "    first= name_chain,\n",
    "    last= food_items_chain\n",
    ")\n",
    "\n",
    "# Run the chain with input\n",
    "chain_response = sequential_chain.invoke({\"cuisine\": \"Indian\"})\n",
    "print(chain_response)\n"
   ]
  }
 ],
 "metadata": {
  "kernelspec": {
   "display_name": "llm-resturant-name-generator-venv",
   "language": "python",
   "name": "python3"
  },
  "language_info": {
   "codemirror_mode": {
    "name": "ipython",
    "version": 3
   },
   "file_extension": ".py",
   "mimetype": "text/x-python",
   "name": "python",
   "nbconvert_exporter": "python",
   "pygments_lexer": "ipython3",
   "version": "3.12.4"
  }
 },
 "nbformat": 4,
 "nbformat_minor": 2
}
